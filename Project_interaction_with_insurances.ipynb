{
 "cells": [
  {
   "cell_type": "markdown",
   "id": "bigger-department",
   "metadata": {},
   "source": [
    "# Program that gets a file and interacts with the user to get multiple info from the file\n",
    "\n",
    "This program will use our code made before to make an interactive program tha will get a file with the same format as the one we got from the main project and make it give multiple info about this one to the user as the user asks for it.\n",
    " Note : Make a part that creates a random file accurate to the file info we have "
   ]
  }
 ],
 "metadata": {
  "kernelspec": {
   "display_name": "Python 3",
   "language": "python",
   "name": "python3"
  },
  "language_info": {
   "codemirror_mode": {
    "name": "ipython",
    "version": 3
   },
   "file_extension": ".py",
   "mimetype": "text/x-python",
   "name": "python",
   "nbconvert_exporter": "python",
   "pygments_lexer": "ipython3",
   "version": "3.8.5"
  }
 },
 "nbformat": 4,
 "nbformat_minor": 5
}
